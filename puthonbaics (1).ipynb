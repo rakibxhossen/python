{
  "nbformat": 4,
  "nbformat_minor": 0,
  "metadata": {
    "colab": {
      "provenance": []
    },
    "kernelspec": {
      "name": "python3",
      "display_name": "Python 3"
    },
    "language_info": {
      "name": "python"
    }
  },
  "cells": [
    {
      "cell_type": "code",
      "execution_count": null,
      "metadata": {
        "id": "BNi3gkK-7GHc"
      },
      "outputs": [],
      "source": []
    },
    {
      "cell_type": "code",
      "source": [],
      "metadata": {
        "id": "63bdCvTs5A2-"
      },
      "execution_count": null,
      "outputs": []
    },
    {
      "cell_type": "code",
      "source": [],
      "metadata": {
        "id": "oEWX-ZX55BdV"
      },
      "execution_count": null,
      "outputs": []
    },
    {
      "cell_type": "markdown",
      "source": [
        "1. Explain the key features of Python that make it a popular choice for programming ?\n",
        "\n",
        "   -> **Versatility** : Python’s versatility makes it the ultimate \"one language for all\" solution.\n",
        "      **Simplicity**  : it is very easy to learn & use.\n",
        "      **Good ecosystem** : Rich ecosystem of library.\n",
        "2.  Describe the role of predefined keywords in Python and provide examples of how they are used in a program ?\n",
        "   -> Keywords in Python are reserved words that have special meanings and are part of the language's syntax.\n",
        "   ex. if (x > 5) and (y < 10):\n",
        "    print(\"Valid\")\n",
        "\n",
        "3.  Compare and contrast mutable and immutable objects in Python with examples\n",
        "   -> Mutable objects can be altered after creation. Common examples include lists, dictionaries, and sets. When you modify a mutable object, Python updates it in place without creating a new object. This efficiency comes with a trade-off: since mutable objects can change, they may lead to unintended side effects, especially when passed into functions.\n",
        "\n",
        "fruits = [\"apple\", \"banana\"]\n",
        "fruits.append(\"orange\")  # The original list is modified\n",
        "print(fruits)  # Output: [\"apple\", \"banana\", \"orange\"]\n",
        "\n",
        "   Immutable objects, once created, cannot be modified. Examples include integers, strings, and tuples. Any operation that appears to change an immutable object actually creates a new object in memory.\n",
        "\n",
        "Take a string as an example:\n",
        "\n",
        "python\n",
        "greeting = \"Hello\"\n",
        "new_greeting = greeting + \" World\"  \n",
        "\n",
        "4.  Discuss the different types of operators in Python and provide examples of how they are used\n",
        "   -> Python provides a rich set of operators to perform various operations on variables and values. Operators are categorized based on their functionality. Below is a detailed explanation of each type with examples.\n",
        "   ex. Arithmatics oparators\n",
        "       Comparasion oparators\n",
        "       Logical oparators\n",
        "       Bitwise oparators\n",
        "       Assignment oparators\n",
        "       Membership oparators\n",
        "       Identy oparators\n",
        "       \n",
        "5. Explain the concept of type casting in Python with examples\n",
        "   -> Type casting in Python refers to explicitly converting one data type to another.\n",
        "   ex. int(), float(), str(), list(), etc.,\n",
        "6.  How do conditional statements work in Python? Illustrate with examples\n",
        "   -> Conditional statements in Python allow you to execute specific blocks of code based on whether a condition evaluates to True or False.\n",
        "7.  Describe the different types of loops in Python and their use cases with examples.\n",
        "  -> for Loops\n",
        "     while loops\n",
        "     Loop Control Statement\n",
        "     Nested Loops\n",
        "     The else Clause in Loops\n",
        "     \n",
        "\n",
        "\n",
        "\n",
        "\n",
        "\n",
        "\n"
      ],
      "metadata": {
        "id": "RoMpkg0LHKuy"
      }
    }
  ]
}